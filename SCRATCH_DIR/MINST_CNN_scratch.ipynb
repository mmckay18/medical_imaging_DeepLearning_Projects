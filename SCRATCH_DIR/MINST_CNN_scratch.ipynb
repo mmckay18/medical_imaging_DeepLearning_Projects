{
 "cells": [
  {
   "cell_type": "markdown",
   "metadata": {},
   "source": [
    "MNIST using CNN"
   ]
  },
  {
   "cell_type": "code",
   "execution_count": 1,
   "metadata": {},
   "outputs": [],
   "source": [
    "import torch\n",
    "import torch.nn as nn\n",
    "import torch.nn.functional as F\n",
    "from torch.utils.data import DataLoader\n",
    "from torchvision import datasets, transforms\n",
    "from torchvision.utils import make_grid\n",
    "\n",
    "import numpy as np\n",
    "import pandas as pd\n",
    "from sklearn.metrics import confusion_matrix\n",
    "import matplotlib.pyplot as plt\n",
    "import seaborn as sns"
   ]
  },
  {
   "cell_type": "code",
   "execution_count": 2,
   "metadata": {},
   "outputs": [
    {
     "name": "stdout",
     "output_type": "stream",
     "text": [
      "GPU is available. Using GPU.\n",
      "Device name: NVIDIA GeForce RTX 3080\n"
     ]
    }
   ],
   "source": [
    "import torch\n",
    "\n",
    "# Check if CUDA (GPU) is available\n",
    "if torch.cuda.is_available():\n",
    "    device = torch.device(\"cuda\")\n",
    "    print(\"GPU is available. Using GPU.\")\n",
    "    print(f\"Device name: {torch.cuda.get_device_name(device)}\")\n",
    "else:\n",
    "    device = torch.device(\"cpu\")\n",
    "    print(\"GPU is not available. Using CPU.\")"
   ]
  },
  {
   "cell_type": "code",
   "execution_count": 3,
   "metadata": {},
   "outputs": [],
   "source": [
    "transform = transforms.ToTensor()"
   ]
  },
  {
   "cell_type": "code",
   "execution_count": 4,
   "metadata": {},
   "outputs": [
    {
     "name": "stdout",
     "output_type": "stream",
     "text": [
      "Dataset MNIST\n",
      "    Number of datapoints: 60000\n",
      "    Root location: ../../../../DATA\n",
      "    Split: Train\n",
      "    StandardTransform\n",
      "Transform: ToTensor()\n",
      "Dataset MNIST\n",
      "    Number of datapoints: 10000\n",
      "    Root location: ../../../../DATA\n",
      "    Split: Test\n",
      "    StandardTransform\n",
      "Transform: ToTensor()\n"
     ]
    },
    {
     "data": {
      "image/png": "[encoded data removed]",
      "text/plain": [
       "<Figure size 640x480 with 1 Axes>"
      ]
     },
     "metadata": {},
     "output_type": "display_data"
    },
    {
     "data": {
      "image/png": "[encoded data removed]",
      "text/plain": [
       "<Figure size 640x480 with 1 Axes>"
      ]
     },
     "metadata": {},
     "output_type": "display_data"
    }
   ],
   "source": [
    "# Load the training and test datasets\n",
    "train_data = datasets.MNIST(root='../../../../DATA', train=True, download=True, transform=transform)\n",
    "print(train_data)\n",
    "test_data = datasets.MNIST(root='../../../../DATA', train=False, download=True, transform=transform)\n",
    "print(test_data)\n",
    "\n",
    "# Check what the data looks like\n",
    "plt.imshow(train_data[0][0].reshape((28,28)), cmap=\"gray_r\")\n",
    "plt.show()\n",
    "plt.imshow(test_data[0][0].reshape((28,28)), cmap=\"gray_r\")\n",
    "plt.show()"
   ]
  },
  {
   "cell_type": "code",
   "execution_count": 5,
   "metadata": {},
   "outputs": [],
   "source": [
    "train_loader = DataLoader(train_data, batch_size=10, shuffle=True)\n",
    "test_loader = DataLoader(test_data, batch_size=10, shuffle=False)"
   ]
  },
  {
   "cell_type": "code",
   "execution_count": 6,
   "metadata": {},
   "outputs": [],
   "source": [
    "conv1 = nn.Conv2d(1, 6, 3, 1) # ---> 6 filters --> pooling --> conv2\n",
    "# 1 input channe(monochromatic, it will be 3 for RGB), \n",
    "# 6 output channels(feature maps/ feature extraction), \n",
    "# 3x3 kernel(how big those output images are)-(all kernals must be square aka same xy dimension), \n",
    "# stride 1\n",
    "\n",
    "conv2 = nn.Conv2d(6, 16, 3, 1)\n",
    "# 6 input channels, --> output from conv1\n",
    "# 16 output channels, abertrary number - use for experimentation\n",
    "# 3x3 kernel, \n",
    "# 1 stride"
   ]
  },
  {
   "cell_type": "code",
   "execution_count": 10,
   "metadata": {},
   "outputs": [
    {
     "data": {
      "text/plain": [
       "torch.Size([1, 28, 28])"
      ]
     },
     "execution_count": 10,
     "metadata": {},
     "output_type": "execute_result"
    }
   ],
   "source": [
    "# Grab the first batch of 10 images\n",
    "for i, (X_train, y_train) in enumerate(train_data):\n",
    "    break\n",
    "\n",
    "X_train.shape\n"
   ]
  },
  {
   "cell_type": "code",
   "execution_count": 11,
   "metadata": {},
   "outputs": [],
   "source": [
    "x = X_train.view(1, 1, 28, 28) # 4D batch(batch of 1 image)\n",
    "# 1 image, 1 channel, 28x28 image"
   ]
  },
  {
   "cell_type": "code",
   "execution_count": 12,
   "metadata": {},
   "outputs": [
    {
     "data": {
      "text/plain": [
       "torch.Size([1, 6, 26, 26])"
      ]
     },
     "execution_count": 12,
     "metadata": {},
     "output_type": "execute_result"
    }
   ],
   "source": [
    "x = F.relu(conv1(x))\n",
    "x.shape # 6 feature maps, 26x26 image - we lost boarder information due to kernel size - need padding but it doesnt matter for MNIST since all the images are rougly in the center"
   ]
  },
  {
   "cell_type": "code",
   "execution_count": 13,
   "metadata": {},
   "outputs": [
    {
     "data": {
      "text/plain": [
       "torch.Size([1, 6, 13, 13])"
      ]
     },
     "execution_count": 13,
     "metadata": {},
     "output_type": "execute_result"
    }
   ],
   "source": [
    "x = F.max_pool2d(x, 2, 2) # 6 feature maps, 13x13 image - 2x2 pooling, stride 2\n",
    "x.shape"
   ]
  },
  {
   "cell_type": "code",
   "execution_count": 14,
   "metadata": {},
   "outputs": [
    {
     "data": {
      "text/plain": [
       "torch.Size([1, 16, 11, 11])"
      ]
     },
     "execution_count": 14,
     "metadata": {},
     "output_type": "execute_result"
    }
   ],
   "source": [
    "x = F.relu(conv2(x))\n",
    "x.shape # 16 feature maps, 11x11 image"
   ]
  },
  {
   "cell_type": "code",
   "execution_count": 15,
   "metadata": {},
   "outputs": [
    {
     "data": {
      "text/plain": [
       "torch.Size([1, 16, 5, 5])"
      ]
     },
     "execution_count": 15,
     "metadata": {},
     "output_type": "execute_result"
    }
   ],
   "source": [
    "x = F.max_pool2d(x, 2, 2) # 16 feature maps, 5x5 image\n",
    "x.shape"
   ]
  },
  {
   "cell_type": "code",
   "execution_count": 16,
   "metadata": {},
   "outputs": [
    {
     "data": {
      "text/plain": [
       "(5.5, 5.5)"
      ]
     },
     "execution_count": 16,
     "metadata": {},
     "output_type": "execute_result"
    }
   ],
   "source": [
    "(((28-2)/2-2)/2, ((28-2)/2-2)/2) # check the math"
   ]
  },
  {
   "cell_type": "code",
   "execution_count": 17,
   "metadata": {},
   "outputs": [
    {
     "data": {
      "text/plain": [
       "torch.Size([1, 400])"
      ]
     },
     "execution_count": 17,
     "metadata": {},
     "output_type": "execute_result"
    }
   ],
   "source": [
    "# Flatten the data\n",
    "x = x.view(-1, 16*5*5) # 16 feature maps, 5x5 image\n",
    "x.shape"
   ]
  },
  {
   "cell_type": "markdown",
   "metadata": {},
   "source": []
  },
  {
   "cell_type": "markdown",
   "metadata": {},
   "source": [
    "Part 2: Build the CNN"
   ]
  },
  {
   "cell_type": "code",
   "execution_count": 18,
   "metadata": {},
   "outputs": [],
   "source": [
    "class ConvolutionalNetwork(nn.Module):\n",
    "    def __init__(self):\n",
    "        super().__init__()\n",
    "        self.conv1 = nn.Conv2d(1, 6, 3, 1) # 6 feature maps, 5x5 image\n",
    "        self.conv2 = nn.Conv2d(6, 16, 3, 1) # 16 feature maps, 5x5 image\n",
    "        self.fc1 = nn.Linear(16*5*5, 120) # 16 feature maps, 5x5 image --> 120 neurons in the hidden layer\n",
    "        self.fc2 = nn.Linear(120, 84) # 84 neurons in the hidden layer\n",
    "        self.fc3 = nn.Linear(84, 10) # 10 classes\n",
    "\n",
    "    def forward(self, X):\n",
    "        X = F.relu(self.conv1(X))\n",
    "        X = F.max_pool2d(X, 2, 2)\n",
    "        X = F.relu(self.conv2(X))\n",
    "        X = F.max_pool2d(X, 2, 2)\n",
    "        X = X.view(-1, 16*5*5) # Flatten the data for the fully connected layer\n",
    "        X = F.relu(self.fc1(X))\n",
    "        X = F.relu(self.fc2(X))\n",
    "        X = self.fc3(X)\n",
    "        return F.log_softmax(X, dim=1)\n",
    "       "
   ]
  },
  {
   "cell_type": "code",
   "execution_count": 19,
   "metadata": {},
   "outputs": [
    {
     "data": {
      "text/plain": [
       "ConvolutionalNetwork(\n",
       "  (conv1): Conv2d(1, 6, kernel_size=(3, 3), stride=(1, 1))\n",
       "  (conv2): Conv2d(6, 16, kernel_size=(3, 3), stride=(1, 1))\n",
       "  (fc1): Linear(in_features=400, out_features=120, bias=True)\n",
       "  (fc2): Linear(in_features=120, out_features=84, bias=True)\n",
       "  (fc3): Linear(in_features=84, out_features=10, bias=True)\n",
       ")"
      ]
     },
     "execution_count": 19,
     "metadata": {},
     "output_type": "execute_result"
    }
   ],
   "source": [
    "torch.manual_seed(42)\n",
    "model = ConvolutionalNetwork()\n",
    "model"
   ]
  },
  {
   "cell_type": "code",
   "execution_count": 20,
   "metadata": {},
   "outputs": [
    {
     "name": "stdout",
     "output_type": "stream",
     "text": [
      "54\n",
      "6\n",
      "864\n",
      "16\n",
      "48000\n",
      "120\n",
      "10080\n",
      "84\n",
      "840\n",
      "10\n"
     ]
    }
   ],
   "source": [
    "for param in model.parameters(): # Check number of parameeter in each layer\n",
    "    print(param.numel())"
   ]
  },
  {
   "cell_type": "code",
   "execution_count": 21,
   "metadata": {},
   "outputs": [],
   "source": [
    "# Define loss function and optimizer\n",
    "criterion = nn.CrossEntropyLoss()\n",
    "optimizer = torch.optim.Adam(model.parameters(), lr=0.001)"
   ]
  },
  {
   "cell_type": "code",
   "execution_count": 22,
   "metadata": {},
   "outputs": [
    {
     "name": "stdout",
     "output_type": "stream",
     "text": [
      "epoch: 0 batch: 600 loss: 0.042550649493932724 accuracy:  78.483%\n",
      "epoch: 0 batch: 1200 loss: 0.07135549932718277 accuracy:  85.825%\n",
      "epoch: 0 batch: 1800 loss: 0.34511977434158325 accuracy:  88.706%\n",
      "epoch: 0 batch: 2400 loss: 0.022886302322149277 accuracy:  90.479%\n",
      "epoch: 0 batch: 3000 loss: 0.007212378084659576 accuracy:  91.610%\n",
      "epoch: 0 batch: 3600 loss: 0.0012429531197994947 accuracy:  92.439%\n",
      "epoch: 0 batch: 4200 loss: 0.5538663268089294 accuracy:  93.102%\n",
      "epoch: 0 batch: 4800 loss: 0.019490700215101242 accuracy:  93.579%\n",
      "epoch: 0 batch: 5400 loss: 0.011199058033525944 accuracy:  94.024%\n",
      "epoch: 0 batch: 6000 loss: 0.09562695026397705 accuracy:  94.325%\n",
      "epoch: 1 batch: 600 loss: 0.06711101531982422 accuracy:  97.833%\n",
      "epoch: 1 batch: 1200 loss: 0.03923652321100235 accuracy:  97.833%\n",
      "epoch: 1 batch: 1800 loss: 0.0033368885051459074 accuracy:  97.889%\n",
      "epoch: 1 batch: 2400 loss: 0.014520023949444294 accuracy:  97.846%\n",
      "epoch: 1 batch: 3000 loss: 0.18050406873226166 accuracy:  97.823%\n",
      "epoch: 1 batch: 3600 loss: 0.00034776979009620845 accuracy:  97.872%\n",
      "epoch: 1 batch: 4200 loss: 0.0005967664765194058 accuracy:  97.952%\n",
      "epoch: 1 batch: 4800 loss: 0.00064384302822873 accuracy:  97.973%\n",
      "epoch: 1 batch: 5400 loss: 0.000547594390809536 accuracy:  97.981%\n",
      "epoch: 1 batch: 6000 loss: 0.08669640123844147 accuracy:  97.973%\n",
      "epoch: 2 batch: 600 loss: 0.0008966434979811311 accuracy:  98.800%\n",
      "epoch: 2 batch: 1200 loss: 0.0020628944039344788 accuracy:  98.708%\n",
      "epoch: 2 batch: 1800 loss: 0.0017322745407000184 accuracy:  98.528%\n",
      "epoch: 2 batch: 2400 loss: 0.0007288528140634298 accuracy:  98.550%\n",
      "epoch: 2 batch: 3000 loss: 0.3109164834022522 accuracy:  98.500%\n",
      "epoch: 2 batch: 3600 loss: 0.012878025881946087 accuracy:  98.503%\n",
      "epoch: 2 batch: 4200 loss: 0.028725847601890564 accuracy:  98.524%\n",
      "epoch: 2 batch: 4800 loss: 0.003677567932754755 accuracy:  98.544%\n",
      "epoch: 2 batch: 5400 loss: 0.0008131776703521609 accuracy:  98.531%\n",
      "epoch: 2 batch: 6000 loss: 6.801549898227677e-05 accuracy:  98.528%\n",
      "epoch: 3 batch: 600 loss: 0.00038643748848699033 accuracy:  99.017%\n",
      "epoch: 3 batch: 1200 loss: 0.0010208558524027467 accuracy:  98.967%\n",
      "epoch: 3 batch: 1800 loss: 0.0020591882057487965 accuracy:  98.911%\n",
      "epoch: 3 batch: 2400 loss: 0.00023957160010468215 accuracy:  98.862%\n",
      "epoch: 3 batch: 3000 loss: 0.07932645827531815 accuracy:  98.853%\n",
      "epoch: 3 batch: 3600 loss: 0.004376052878797054 accuracy:  98.817%\n",
      "epoch: 3 batch: 4200 loss: 0.00019515446911100298 accuracy:  98.819%\n",
      "epoch: 3 batch: 4800 loss: 0.16232359409332275 accuracy:  98.821%\n",
      "epoch: 3 batch: 5400 loss: 0.013869230635464191 accuracy:  98.824%\n",
      "epoch: 3 batch: 6000 loss: 0.0012924716575071216 accuracy:  98.823%\n",
      "epoch: 4 batch: 600 loss: 0.019593851640820503 accuracy:  99.167%\n",
      "epoch: 4 batch: 1200 loss: 0.13555628061294556 accuracy:  99.058%\n",
      "epoch: 4 batch: 1800 loss: 0.0001171341646113433 accuracy:  99.056%\n",
      "epoch: 4 batch: 2400 loss: 7.473140431102365e-05 accuracy:  99.037%\n",
      "epoch: 4 batch: 3000 loss: 0.003740929067134857 accuracy:  99.037%\n",
      "epoch: 4 batch: 3600 loss: 0.06373685598373413 accuracy:  99.028%\n",
      "epoch: 4 batch: 4200 loss: 0.005094725172966719 accuracy:  99.036%\n",
      "epoch: 4 batch: 4800 loss: 0.0028789080679416656 accuracy:  99.013%\n",
      "epoch: 4 batch: 5400 loss: 0.000371068948879838 accuracy:  98.998%\n",
      "epoch: 4 batch: 6000 loss: 0.0014367223484441638 accuracy:  99.002%\n",
      "epoch: 5 batch: 600 loss: 8.96355850272812e-05 accuracy:  99.267%\n",
      "epoch: 5 batch: 1200 loss: 0.15016481280326843 accuracy:  99.192%\n",
      "epoch: 5 batch: 1800 loss: 0.0629841610789299 accuracy:  99.228%\n",
      "epoch: 5 batch: 2400 loss: 0.0021766708232462406 accuracy:  99.229%\n",
      "epoch: 5 batch: 3000 loss: 0.00010394399578217417 accuracy:  99.250%\n",
      "epoch: 5 batch: 3600 loss: 0.00030899749253876507 accuracy:  99.225%\n",
      "epoch: 5 batch: 4200 loss: 4.619091851054691e-05 accuracy:  99.229%\n",
      "epoch: 5 batch: 4800 loss: 2.0241013771737926e-05 accuracy:  99.227%\n",
      "epoch: 5 batch: 5400 loss: 0.0006549975951202214 accuracy:  99.222%\n",
      "epoch: 5 batch: 6000 loss: 0.0006410576170310378 accuracy:  99.222%\n",
      "epoch: 6 batch: 600 loss: 0.0018795595970004797 accuracy:  99.350%\n",
      "epoch: 6 batch: 1200 loss: 0.0013754755491390824 accuracy:  99.392%\n",
      "epoch: 6 batch: 1800 loss: 0.011381862685084343 accuracy:  99.456%\n",
      "epoch: 6 batch: 2400 loss: 0.000180924340384081 accuracy:  99.404%\n",
      "epoch: 6 batch: 3000 loss: 4.290721699362621e-05 accuracy:  99.373%\n",
      "epoch: 6 batch: 3600 loss: 2.0742270407936303e-06 accuracy:  99.372%\n",
      "epoch: 6 batch: 4200 loss: 0.002765167970210314 accuracy:  99.355%\n",
      "epoch: 6 batch: 4800 loss: 0.0014764729421585798 accuracy:  99.344%\n",
      "epoch: 6 batch: 5400 loss: 0.0013796966522932053 accuracy:  99.359%\n",
      "epoch: 6 batch: 6000 loss: 0.002265332732349634 accuracy:  99.357%\n",
      "epoch: 7 batch: 600 loss: 0.00022984575480222702 accuracy:  99.533%\n",
      "epoch: 7 batch: 1200 loss: 3.457067521139834e-07 accuracy:  99.500%\n",
      "epoch: 7 batch: 1800 loss: 0.0005300216726027429 accuracy:  99.461%\n",
      "epoch: 7 batch: 2400 loss: 0.012129543349146843 accuracy:  99.379%\n",
      "epoch: 7 batch: 3000 loss: 0.002175899688154459 accuracy:  99.393%\n",
      "epoch: 7 batch: 3600 loss: 0.0011820837389677763 accuracy:  99.378%\n",
      "epoch: 7 batch: 4200 loss: 0.004147802479565144 accuracy:  99.386%\n",
      "epoch: 7 batch: 4800 loss: 0.001283586723729968 accuracy:  99.392%\n",
      "epoch: 7 batch: 5400 loss: 0.0002397086500423029 accuracy:  99.389%\n",
      "epoch: 7 batch: 6000 loss: 0.0031292629428207874 accuracy:  99.395%\n",
      "epoch: 8 batch: 600 loss: 0.00031714639044366777 accuracy:  99.583%\n",
      "epoch: 8 batch: 1200 loss: 0.0014652952086180449 accuracy:  99.542%\n",
      "epoch: 8 batch: 1800 loss: 0.196178138256073 accuracy:  99.533%\n",
      "epoch: 8 batch: 2400 loss: 0.5195162892341614 accuracy:  99.529%\n",
      "epoch: 8 batch: 3000 loss: 0.03444904088973999 accuracy:  99.547%\n",
      "epoch: 8 batch: 3600 loss: 3.6477827052294742e-06 accuracy:  99.522%\n",
      "epoch: 8 batch: 4200 loss: 0.003553911345079541 accuracy:  99.517%\n",
      "epoch: 8 batch: 4800 loss: 0.0254499651491642 accuracy:  99.502%\n",
      "epoch: 8 batch: 5400 loss: 9.238329766958486e-06 accuracy:  99.470%\n",
      "epoch: 8 batch: 6000 loss: 0.0022211377508938313 accuracy:  99.462%\n",
      "epoch: 9 batch: 600 loss: 1.009653351502493e-05 accuracy:  99.517%\n",
      "epoch: 9 batch: 1200 loss: 0.26282408833503723 accuracy:  99.642%\n",
      "epoch: 9 batch: 1800 loss: 5.9856840380234644e-05 accuracy:  99.594%\n",
      "epoch: 9 batch: 2400 loss: 0.06085958331823349 accuracy:  99.546%\n",
      "epoch: 9 batch: 3000 loss: 0.02447432652115822 accuracy:  99.513%\n",
      "epoch: 9 batch: 3600 loss: 0.5570622086524963 accuracy:  99.525%\n",
      "epoch: 9 batch: 4200 loss: 0.004965497646480799 accuracy:  99.519%\n",
      "epoch: 9 batch: 4800 loss: 5.800245708087459e-05 accuracy:  99.519%\n",
      "epoch: 9 batch: 5400 loss: 5.2392500947462395e-05 accuracy:  99.493%\n",
      "epoch: 9 batch: 6000 loss: 0.00036318443017080426 accuracy:  99.490%\n",
      "Training took 7.681571241219839 minutes\n"
     ]
    }
   ],
   "source": [
    "import time\n",
    "start_time = time.time()\n",
    "\n",
    "epoch = 10\n",
    "train_losses = []\n",
    "test_losses = []\n",
    "train_correct = []\n",
    "test_correct = []\n",
    "\n",
    "for i in range(epoch):\n",
    "\n",
    "    #TRAIN\n",
    "    trn_corr = 0\n",
    "    tst_corr = 0\n",
    "    for b, (X_train, y_train) in enumerate(train_loader):\n",
    "        b += 1\n",
    "        y_pred = model(X_train) # we do not need to flatten the data here because we are using CNN\n",
    "        loss = criterion(y_pred, y_train)\n",
    "        predicted = torch.max(y_pred.data, 1)[1]\n",
    "        batch_corr = (predicted == y_train).sum() # True 1, False 0 sum() will give us the number of correct predictions\n",
    "        trn_corr += batch_corr\n",
    "\n",
    "        optimizer.zero_grad() # set the gradients to zero before backpropagation\n",
    "        loss.backward() # backpropagation\n",
    "        optimizer.step() # update the parameters\n",
    "\n",
    "        if b%600 == 0:\n",
    "            print(f'epoch: {i} batch: {b} loss: {loss.item()} accuracy: {trn_corr.item()*100/(10*b):7.3f}%')\n",
    "\n",
    "    #Append the loss and accuracy to the lists        \n",
    "    train_losses.append(loss.item())\n",
    "    train_correct.append(trn_corr.item())\n",
    "\n",
    "    # Test\n",
    "    with torch.no_grad(): # we do not need gradient calculation for test\n",
    "        for b, (X_test, y_test) in enumerate(test_loader):\n",
    "            y_val = model(X_test) # we do not need to calculate the gradients for validation\n",
    "            predicted = torch.max(y_val.data, 1)[1] # get the index of the class with the highest probability\n",
    "            tst_corr += (predicted == y_test).sum() # sum up the number of correct predictions\n",
    "            loss = criterion(y_val, y_test)\n",
    "            \n",
    "    # Append the loss and accuracy to the lists\n",
    "    test_losses.append(loss.item())\n",
    "    test_correct.append(tst_corr.item())\n",
    "\n",
    "\n",
    "current_time = time.time()\n",
    "total_time = current_time - start_time\n",
    "print(f'Training took {total_time/60} minutes')"
   ]
  },
  {
   "cell_type": "code",
   "execution_count": 23,
   "metadata": {},
   "outputs": [
    {
     "data": {
      "text/plain": [
       "[0.09562695026397705,\n",
       " 0.08669640123844147,\n",
       " 6.801549898227677e-05,\n",
       " 0.0012924716575071216,\n",
       " 0.0014367223484441638,\n",
       " 0.0006410576170310378,\n",
       " 0.002265332732349634,\n",
       " 0.0031292629428207874,\n",
       " 0.0022211377508938313,\n",
       " 0.00036318443017080426]"
      ]
     },
     "execution_count": 23,
     "metadata": {},
     "output_type": "execute_result"
    }
   ],
   "source": [
    "train_losses"
   ]
  },
  {
   "cell_type": "code",
   "execution_count": 24,
   "metadata": {},
   "outputs": [
    {
     "data": {
      "text/plain": [
       "<matplotlib.legend.Legend at 0x295011dd120>"
      ]
     },
     "execution_count": 24,
     "metadata": {},
     "output_type": "execute_result"
    },
    {
     "data": {
      "image/png": "[encoded data removed]",
      "text/plain": [
       "<Figure size 640x480 with 1 Axes>"
      ]
     },
     "metadata": {},
     "output_type": "display_data"
    }
   ],
   "source": [
    "plt.plot(train_losses, label='training loss')\n",
    "plt.plot(test_losses, label='validation loss')\n",
    "plt.title('Loss at the end of each epoch')\n",
    "plt.legend()"
   ]
  },
  {
   "cell_type": "code",
   "execution_count": 25,
   "metadata": {},
   "outputs": [
    {
     "data": {
      "text/plain": [
       "[0.0024309384170919657,\n",
       " 0.001276812399737537,\n",
       " 0.0005136849940754473,\n",
       " 0.00016720326675567776,\n",
       " 0.0003879807482007891,\n",
       " 0.0002106665342580527,\n",
       " 1.1444078609201824e-06,\n",
       " 4.041901775053702e-05,\n",
       " 0.00041831322596408427,\n",
       " 5.722037030864158e-07]"
      ]
     },
     "execution_count": 25,
     "metadata": {},
     "output_type": "execute_result"
    }
   ],
   "source": [
    "test_losses"
   ]
  },
  {
   "cell_type": "code",
   "execution_count": 26,
   "metadata": {},
   "outputs": [
    {
     "data": {
      "image/png": "[encoded data removed]",
      "text/plain": [
       "<Figure size 640x480 with 1 Axes>"
      ]
     },
     "metadata": {},
     "output_type": "display_data"
    }
   ],
   "source": [
    "plt.plot([t/600 for t in train_correct], label='training accuracy')\n",
    "plt.plot([t/100 for t in test_correct], label='validation accuracy')\n",
    "plt.title('Accuracy at the end of each epoch')\n",
    "plt.legend();"
   ]
  },
  {
   "cell_type": "code",
   "execution_count": 27,
   "metadata": {},
   "outputs": [],
   "source": [
    "# Evaluate the model with the test data\n",
    "test_load_all = DataLoader(test_data, batch_size=10000, shuffle=False)"
   ]
  },
  {
   "cell_type": "code",
   "execution_count": 28,
   "metadata": {},
   "outputs": [
    {
     "name": "stdout",
     "output_type": "stream",
     "text": [
      "0.9887\n"
     ]
    }
   ],
   "source": [
    "with torch.no_grad():\n",
    "    correct = 0\n",
    "    for X_test, y_test in test_load_all:\n",
    "        y_val = model(X_test)\n",
    "        predicted = torch.max(y_val,1)[1]\n",
    "        correct += (predicted == y_test).sum()\n",
    "        print(correct.item() / len(test_data))\n",
    "        # print(f'Test accuracy: {correct.item()}/{len(test_data)} = {correct.item()*100/(len(test_data)):7.3f}%')"
   ]
  },
  {
   "cell_type": "code",
   "execution_count": 29,
   "metadata": {},
   "outputs": [
    {
     "name": "stdout",
     "output_type": "stream",
     "text": [
      "[[   0    1    2    3    4    5    6    7    8    9]]\n",
      "\n",
      "[[ 971    0    2    0    0    1    3    0    2    0]\n",
      " [   1 1128    0    1    0    0    1    4    0    0]\n",
      " [   0    1 1022    3    2    0    1    5    6    1]\n",
      " [   0    1    0  995    0    6    0    0    1    1]\n",
      " [   0    0    0    0  970    0    1    0    0    2]\n",
      " [   0    2    0    4    0  884    4    0    1    7]\n",
      " [   5    1    0    1    5    1  947    0    1    0]\n",
      " [   1    2    7    4    0    0    0 1017    2    2]\n",
      " [   0    0    1    2    0    0    1    0  959    2]\n",
      " [   2    0    0    0    5    0    0    2    2  994]]\n"
     ]
    }
   ],
   "source": [
    "# print a row of values for reference\n",
    "np.set_printoptions(formatter=dict(int=lambda x: f'{x:4}'))\n",
    "print(np.arange(10).reshape(1,10))\n",
    "print()\n",
    "\n",
    "# print the confusion matrix\n",
    "print(confusion_matrix(predicted.view(-1), y_test.view(-1)))"
   ]
  },
  {
   "cell_type": "markdown",
   "metadata": {},
   "source": [
    "# Test for a single image"
   ]
  },
  {
   "cell_type": "code",
   "execution_count": 37,
   "metadata": {},
   "outputs": [
    {
     "data": {
      "text/plain": [
       "<matplotlib.image.AxesImage at 0x2950128b610>"
      ]
     },
     "execution_count": 37,
     "metadata": {},
     "output_type": "execute_result"
    },
    {
     "data": {
      "image/png": "[encoded data removed]",
      "text/plain": [
       "<Figure size 640x480 with 1 Axes>"
      ]
     },
     "metadata": {},
     "output_type": "display_data"
    }
   ],
   "source": [
    "plt.imshow(test_data[11][0].reshape(28,28), cmap='gist_yarg')"
   ]
  },
  {
   "cell_type": "code",
   "execution_count": 36,
   "metadata": {},
   "outputs": [
    {
     "name": "stdout",
     "output_type": "stream",
     "text": [
      "6\n"
     ]
    }
   ],
   "source": [
    "model.eval()\n",
    "with torch.no_grad():\n",
    "    new_prediction = model(test_data[11][0].view(1,1,28,28)).argmax()\n",
    "    print(new_prediction.item())"
   ]
  },
  {
   "cell_type": "code",
   "execution_count": null,
   "metadata": {},
   "outputs": [],
   "source": []
  },
  {
   "cell_type": "code",
   "execution_count": null,
   "metadata": {},
   "outputs": [],
   "source": []
  },
  {
   "cell_type": "code",
   "execution_count": null,
   "metadata": {},
   "outputs": [],
   "source": []
  },
  {
   "cell_type": "code",
   "execution_count": null,
   "metadata": {},
   "outputs": [],
   "source": []
  }
 ],
 "metadata": {
  "kernelspec": {
   "display_name": "torchcuda_env",
   "language": "python",
   "name": "python3"
  },
  "language_info": {
   "codemirror_mode": {
    "name": "ipython",
    "version": 3
   },
   "file_extension": ".py",
   "mimetype": "text/x-python",
   "name": "python",
   "nbconvert_exporter": "python",
   "pygments_lexer": "ipython3",
   "version": "3.10.16"
  }
 },
 "nbformat": 4,
 "nbformat_minor": 2
}
